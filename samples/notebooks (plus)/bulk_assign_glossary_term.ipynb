{
 "cells": [
  {
   "cell_type": "markdown",
   "metadata": {},
   "source": [
    "# Bulk Assign a Glossary Term to Assets\n",
    "\n",
    "What does the notebook do?\n",
    "\n",
    "1. Reads the glossary\n",
    "1. Finds the term guid based on the GLOSSARY_TERM_FORMAL_NAME\n",
    "1. Converts the CSV into an array of GUIDs\n",
    "1. Assigns the term to all the assets from the CSV"
   ]
  },
  {
   "cell_type": "code",
   "execution_count": null,
   "metadata": {},
   "outputs": [],
   "source": [
    "# ENVIRONMENT VARIABLES\n",
    "# Note #1: You can find a terms formal name by navigating to the term within the Microsoft Purview Governance Portal\n",
    "# Note #2: The script expects the first column in the CSV to be a GUID\n",
    "%env PURVIEW_NAME=pvdemoxv2hu-pv\n",
    "GLOSSARY_TERM_FORMAL_NAME = \"Workplace Analytics_Conflicting meeting\"\n",
    "PATH_TO_CSV = \"C:/Users/tarifat/Downloads/GitHub/purviewcli/samples/csv/assets.csv\""
   ]
  },
  {
   "cell_type": "code",
   "execution_count": null,
   "metadata": {},
   "outputs": [],
   "source": [
    "# Helper Methods\n",
    "import json\n",
    "def getJSON(raw_output):\n",
    "    output = ''.join(raw_output)\n",
    "    json_obj = json.loads(output)\n",
    "    return json_obj"
   ]
  },
  {
   "cell_type": "code",
   "execution_count": null,
   "metadata": {},
   "outputs": [],
   "source": [
    "# 1. Get Glossary\n",
    "glossary = !pv glossary read\n",
    "glossary = getJSON(glossary)"
   ]
  },
  {
   "cell_type": "code",
   "execution_count": null,
   "metadata": {},
   "outputs": [],
   "source": [
    "# 2. Get Term GUID\n",
    "termGuid = None\n",
    "for term in glossary[0]['terms']:\n",
    "    if term['displayText'] == GLOSSARY_TERM_FORMAL_NAME:\n",
    "        termGuid = term['termGuid']"
   ]
  },
  {
   "cell_type": "code",
   "execution_count": null,
   "metadata": {},
   "outputs": [],
   "source": [
    "# 3. Convert CSV to JSON Payload\n",
    "import csv\n",
    "payload = []\n",
    "with open(PATH_TO_CSV) as fp:\n",
    "    reader = csv.reader(fp, delimiter=\",\", quotechar='\"')\n",
    "    next(reader, None)\n",
    "    for row in reader:\n",
    "        item = {\"guid\": row[0]}\n",
    "        payload.append(item)\n",
    "with open(\"payload.json\", \"w\") as outfile:\n",
    "    json.dump(payload, outfile, indent=4, sort_keys=False)"
   ]
  },
  {
   "cell_type": "code",
   "execution_count": null,
   "metadata": {},
   "outputs": [],
   "source": [
    "# 4. Bulk assign Term to Assets\n",
    "!pv glossary createTermsAssignedEntities --termGuid {termGuid} --payloadFile \"payload.json\""
   ]
  }
 ],
 "metadata": {
  "kernelspec": {
   "display_name": "Python 3.10.1 ('env': venv)",
   "language": "python",
   "name": "python3"
  },
  "language_info": {
   "codemirror_mode": {
    "name": "ipython",
    "version": 3
   },
   "file_extension": ".py",
   "mimetype": "text/x-python",
   "name": "python",
   "nbconvert_exporter": "python",
   "pygments_lexer": "ipython3",
   "version": "3.10.1"
  },
  "orig_nbformat": 4,
  "vscode": {
   "interpreter": {
    "hash": "927d94ffdafcc6b94449aeb7c968420dc3eeb572dc48d885fe8ef92cd3316369"
   }
  }
 },
 "nbformat": 4,
 "nbformat_minor": 2
}
