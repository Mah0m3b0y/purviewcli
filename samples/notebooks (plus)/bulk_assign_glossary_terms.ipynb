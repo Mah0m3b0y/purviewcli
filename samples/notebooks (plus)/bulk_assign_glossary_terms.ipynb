{
 "cells": [
  {
   "cell_type": "markdown",
   "metadata": {},
   "source": [
    "# Bulk Assign Glossary Terms to Assets\n",
    "\n",
    "**Description**\n",
    "- This notebook will read a CSV file which has a list of entities mapped to a glossary term.\n",
    "- The notebook will then loop through each term and bulk assign the entities.\n",
    "\n",
    "**Prerequisites**\n",
    "- You need to have a CSV file (e.g. entities_to_terms.csv) with three columns (guid, qualifiedName, termFormalName).\n",
    "- The first two columns (guid, qualifiedName) is a list of entities, the third column is the glossary term you would like to assign (termFormalName).\n",
    "- See the entities_to_term.csv sample file (purviewcli\\samples\\csv)."
   ]
  },
  {
   "cell_type": "code",
   "execution_count": 27,
   "metadata": {},
   "outputs": [
    {
     "name": "stdout",
     "output_type": "stream",
     "text": [
      "env: PURVIEW_NAME=YOUR_PURVIEW_ACCOUNT\n"
     ]
    }
   ],
   "source": [
    "# ENVIRONMENT VARIABLES\n",
    "\n",
    "# 1. Update PURVIEW_NAME with your Purview account name\n",
    "%env PURVIEW_NAME=YOUR_PURVIEW_ACCOUNT\n",
    "\n",
    "# 2. Uncomment and set the variables below if you plan to use a Service Principal\n",
    "# %env AZURE_CLIENT_ID=YOUR_CLIENT_ID\n",
    "# %env AZURE_TENANT_ID=YOUR_TENANT_ID\n",
    "# %env AZURE_CLIENT_SECRET=YOUR_CLIENT_SECRET\n",
    "\n",
    "# 3. Update the path to your local entities_to_term.csv file path\n",
    "PATH_TO_CSV = \"C:/Users/tarifat/Downloads/GitHub/purviewcli/samples/csv/entities_to_term.csv\""
   ]
  },
  {
   "cell_type": "code",
   "execution_count": 4,
   "metadata": {},
   "outputs": [],
   "source": [
    "# Helper Methods\n",
    "import json\n",
    "def getJSON(raw_output):\n",
    "    output = ''.join(raw_output)\n",
    "    json_obj = json.loads(output)\n",
    "    return json_obj"
   ]
  },
  {
   "cell_type": "code",
   "execution_count": 10,
   "metadata": {},
   "outputs": [
    {
     "name": "stdout",
     "output_type": "stream",
     "text": [
      "{'Workplace Analytics_Adjusted meeting hours_Child Term': ['c30f71d4-8321-42fa-98c0-2cf6f6f60003', 'c30f71d4-8321-42fa-98c0-2cf6f6f60001'], 'Workplace Analytics_Collaborator group': ['c30f71d4-8321-42fa-98c0-2cf6f6f60005']}\n"
     ]
    }
   ],
   "source": [
    "# 1. Convert mapping from CSV to Dictionary\n",
    "import csv\n",
    "terms = {}\n",
    "with open(PATH_TO_CSV) as fp:\n",
    "    reader = csv.reader(fp, delimiter=\",\", quotechar='\"')\n",
    "    next(reader, None) # skip headers\n",
    "    for row in reader:\n",
    "        guid, qualifiedName, termFormalName = row[0],row[1],row[2]\n",
    "        if termFormalName in terms:\n",
    "            terms[termFormalName].append(guid)\n",
    "        else:\n",
    "            terms[termFormalName] = []\n",
    "            terms[termFormalName].append(guid)\n",
    "print(terms)"
   ]
  },
  {
   "cell_type": "code",
   "execution_count": 12,
   "metadata": {},
   "outputs": [],
   "source": [
    "# 2. Get Glossary\n",
    "glossary = !pv glossary read\n",
    "glossary = getJSON(glossary)"
   ]
  },
  {
   "cell_type": "code",
   "execution_count": 24,
   "metadata": {},
   "outputs": [],
   "source": [
    "# 3. Get Term GUID function\n",
    "def getTermGuid(termFormalName, glossary):\n",
    "    termGuid = None\n",
    "    for term in glossary[0]['terms']:\n",
    "        if term['displayText'] == termFormalName:\n",
    "            termGuid = term['termGuid']\n",
    "    return termGuid"
   ]
  },
  {
   "cell_type": "code",
   "execution_count": 26,
   "metadata": {},
   "outputs": [
    {
     "name": "stdout",
     "output_type": "stream",
     "text": [
      "{\n",
      "    \"operation\": \"[POST] https://pvdemoxv2hu-pv.purview.azure.com/catalog/api/atlas/v2/glossary/terms/fd684092-1117-40d8-830c-60765cadb733/assignedEntities\",\n",
      "    \"status\": \"The server successfully processed the request\"\n",
      "}\n",
      "{\n",
      "    \"operation\": \"[POST] https://pvdemoxv2hu-pv.purview.azure.com/catalog/api/atlas/v2/glossary/terms/dd5e549a-84b9-4393-ac1c-877c9d0ea774/assignedEntities\",\n",
      "    \"status\": \"The server successfully processed the request\"\n",
      "}\n"
     ]
    }
   ],
   "source": [
    "# 4. Assign terms to entities\n",
    "for term in terms:\n",
    "    termGuid = getTermGuid(term, glossary)\n",
    "    numberOfEntities = len(terms[term])\n",
    "    if numberOfEntities > 0:\n",
    "        payload = []\n",
    "        for entity in terms[term]:\n",
    "            item = {\"guid\": entity}\n",
    "            payload.append(item)\n",
    "        with open(\"payload.json\", \"w\") as outfile:\n",
    "            json.dump(payload, outfile, indent=4, sort_keys=False)\n",
    "        !pv glossary createTermsAssignedEntities --termGuid {termGuid} --payloadFile \"payload.json\""
   ]
  }
 ],
 "metadata": {
  "kernelspec": {
   "display_name": "Python 3.10.1 ('env': venv)",
   "language": "python",
   "name": "python3"
  },
  "language_info": {
   "codemirror_mode": {
    "name": "ipython",
    "version": 3
   },
   "file_extension": ".py",
   "mimetype": "text/x-python",
   "name": "python",
   "nbconvert_exporter": "python",
   "pygments_lexer": "ipython3",
   "version": "3.10.1"
  },
  "orig_nbformat": 4,
  "vscode": {
   "interpreter": {
    "hash": "927d94ffdafcc6b94449aeb7c968420dc3eeb572dc48d885fe8ef92cd3316369"
   }
  }
 },
 "nbformat": 4,
 "nbformat_minor": 2
}
