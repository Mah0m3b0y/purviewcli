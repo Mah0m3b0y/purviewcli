{
 "cells": [
  {
   "cell_type": "code",
   "execution_count": 62,
   "metadata": {},
   "outputs": [
    {
     "name": "stdout",
     "output_type": "stream",
     "text": [
      "env: PURVIEW_NAME=pvdemofm2ie-pv\n"
     ]
    }
   ],
   "source": [
    "%env PURVIEW_NAME=pvdemofm2ie-pv"
   ]
  },
  {
   "cell_type": "code",
   "execution_count": 63,
   "metadata": {},
   "outputs": [],
   "source": [
    "# Initialise Helper Method\n",
    "import json\n",
    "def getJSON(raw_output):\n",
    "    output = ''.join(raw_output)\n",
    "    json_obj = json.loads(output)\n",
    "    return json_obj"
   ]
  },
  {
   "cell_type": "code",
   "execution_count": 64,
   "metadata": {},
   "outputs": [
    {
     "name": "stdout",
     "output_type": "stream",
     "text": [
      "126\n"
     ]
    }
   ],
   "source": [
    "# Get high-level entities from search results\n",
    "search_results_adls = !pv search query --limit 1000 --filterFile \"search/bulk_delete_filter.json\"\n",
    "search_results_adls = getJSON(search_results_adls)\n",
    "guids = []\n",
    "for entity in search_results_adls['value']:\n",
    "    qualifiedName = entity['qualifiedName']\n",
    "    # if qualifiedName.endswith('.csv'):\n",
    "    guid = entity['id']\n",
    "    guids.append(guid)\n",
    "print(len(guids))"
   ]
  },
  {
   "cell_type": "code",
   "execution_count": 65,
   "metadata": {},
   "outputs": [],
   "source": [
    "# Convert guid array into string of guid command line arguments\n",
    "guid_arg = \"\"\n",
    "for guid in guids:\n",
    "    guid_arg += f\" --guid {guid}\""
   ]
  },
  {
   "cell_type": "code",
   "execution_count": 66,
   "metadata": {},
   "outputs": [],
   "source": [
    "!pv entity deleteBulk {guid_arg} > deleted_entities.json"
   ]
  }
 ],
 "metadata": {
  "interpreter": {
   "hash": "574e4e3fa2caffcca541e866ecc3c3fa6a3324d93e0b2e094715f4fe33f8825b"
  },
  "kernelspec": {
   "display_name": "Python 3.9.2 64-bit",
   "language": "python",
   "name": "python3"
  },
  "language_info": {
   "codemirror_mode": {
    "name": "ipython",
    "version": 3
   },
   "file_extension": ".py",
   "mimetype": "text/x-python",
   "name": "python",
   "nbconvert_exporter": "python",
   "pygments_lexer": "ipython3",
   "version": "3.9.2"
  },
  "orig_nbformat": 4
 },
 "nbformat": 4,
 "nbformat_minor": 2
}
