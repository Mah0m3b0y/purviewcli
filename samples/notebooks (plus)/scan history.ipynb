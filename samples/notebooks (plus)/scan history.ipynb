{
 "cells": [
  {
   "cell_type": "code",
   "execution_count": 12,
   "metadata": {},
   "outputs": [],
   "source": [
    "# Install/Upgrade purviewcli package\n",
    "# %pip install --upgrade purviewcli"
   ]
  },
  {
   "cell_type": "code",
   "execution_count": 13,
   "metadata": {},
   "outputs": [
    {
     "name": "stdout",
     "output_type": "stream",
     "text": [
      "env: PURVIEW_NAME=pvdemoxv2hu-pv\n"
     ]
    }
   ],
   "source": [
    "# Environment Variables\n",
    "%env PURVIEW_NAME=YOUR_PURVIEW_ACCOUNT_NAME\n",
    "%env AZURE_CLIENT_ID=YOUR_CLIENT_ID\n",
    "%env AZURE_TENANT_ID=YOUR_TENANT_ID\n",
    "%env AZURE_CLIENT_SECRET=YOUR_CLIENT_SECRET"
   ]
  },
  {
   "cell_type": "code",
   "execution_count": 14,
   "metadata": {},
   "outputs": [],
   "source": [
    "# Helper Methods\n",
    "import json\n",
    "def getJSON(raw_output):\n",
    "    output = ''.join(raw_output)\n",
    "    json_obj = json.loads(output)\n",
    "    return json_obj\n",
    "\n",
    "import csv\n",
    "def export(table):\n",
    "    with open('output.csv', 'w',newline='', encoding=\"utf-8\") as output:\n",
    "        csv_writer = csv.writer(output)\n",
    "        csv_writer.writerows(table)"
   ]
  },
  {
   "cell_type": "code",
   "execution_count": 15,
   "metadata": {},
   "outputs": [
    {
     "name": "stdout",
     "output_type": "stream",
     "text": [
      "[INFO] Retrieving Sources...\n",
      "1. [AzureSqlDatabase] AzureSqlDatabase\n",
      "2. [AdlsGen2] AzureDataLakeStorage\n",
      "[INFO] Complete!\n"
     ]
    }
   ],
   "source": [
    "# 1. Get Sources\n",
    "print('[INFO] Retrieving Sources...')\n",
    "data = !pv scan readDataSources\n",
    "sources = getJSON(data)\n",
    "\n",
    "filtered_sources = []\n",
    "counter = 0\n",
    "for source in sources['value']:\n",
    "    if source['kind'] != 'Collection':\n",
    "        counter += 1\n",
    "        datasource = source['name']\n",
    "        filtered_sources.append(datasource)\n",
    "        print('{0}. [{1}] {2}'.format(counter, source['kind'], datasource))\n",
    "print('[INFO] Complete!')"
   ]
  },
  {
   "cell_type": "code",
   "execution_count": 16,
   "metadata": {},
   "outputs": [
    {
     "name": "stdout",
     "output_type": "stream",
     "text": [
      "[INFO] Retrieving Scans...\n",
      "1 of 2 (Source: AzureSqlDatabase; Scans: 1)\n",
      "2 of 2 (Source: AzureDataLakeStorage; Scans: 2)\n",
      "[INFO] Complete!\n"
     ]
    }
   ],
   "source": [
    "# 2. Get Scans\n",
    "scans = {}\n",
    "number_of_sources = len(filtered_sources)\n",
    "counter = 0\n",
    "\n",
    "print('[INFO] Retrieving Scans...')\n",
    "for source in filtered_sources:\n",
    "    counter += 1\n",
    "    data2 = !pv scan readScans --dataSourceName {source}\n",
    "    scan = getJSON(data2)\n",
    "    print('{0} of {1} (Source: {2}; Scans: {3})'.format(counter, number_of_sources, source, len(scan['value'])))\n",
    "    scans[source] = scan\n",
    "print('[INFO] Complete!')"
   ]
  },
  {
   "cell_type": "code",
   "execution_count": 17,
   "metadata": {},
   "outputs": [
    {
     "name": "stdout",
     "output_type": "stream",
     "text": [
      "[INFO] Retrieving Scan History...\n",
      "[1 of 2] Datasource AzureSqlDatabase has 1 scans.\n",
      " - Getting Scan History for Scan: Scan-qZl\n",
      "[2 of 2] Datasource AzureDataLakeStorage has 2 scans.\n",
      " - Getting Scan History for Scan: Scan-2iv\n",
      " - Getting Scan History for Scan: Scan-FLr\n",
      "[INFO] Complete!\n"
     ]
    }
   ],
   "source": [
    "# 3. Get Scan History\n",
    "results = []\n",
    "headers = [\"assetsClassified\",\"assetsDiscovered\",\"dataSourceType\",\"endTime\",\"error\",\"errorMessage\",\"id\",\"ingestionJobId\",\"parentId\",\"pipelineStartTime\",\"queuedTime\",\"resourceId\",\"runType\",\"scanLevelType\",\"scanRulesetType\",\"scanRulesetVersion\",\"startTime\",\"status\",\"webScanResults\",\"source\",\"scanName\"]\n",
    "results.append(headers)\n",
    "counter = 0\n",
    "\n",
    "print('[INFO] Retrieving Scan History...')\n",
    "for datasource in scans:\n",
    "    counter += 1\n",
    "    print('[{0} of {1}] Datasource {2} has {3} scans.'.format(\n",
    "        counter,\n",
    "        number_of_sources,\n",
    "        datasource,\n",
    "        len(scans[datasource]['value'])\n",
    "        )\n",
    "    )\n",
    "    for scan in scans[datasource]['value']:\n",
    "        print(' - Getting Scan History for Scan: {0}'.format(scan['name']))\n",
    "        history = !pv scan readScanHistory --dataSourceName {datasource} --scanName {scan['name']}\n",
    "        history = getJSON(history)\n",
    "        for record in history['value']:\n",
    "            record.pop('diagnostics')\n",
    "            values = list(record.values())\n",
    "            values.append(datasource)\n",
    "            values.append(scan['name'])\n",
    "            results.append(values) \n",
    "print('[INFO] Complete!')       "
   ]
  },
  {
   "cell_type": "code",
   "execution_count": 19,
   "metadata": {},
   "outputs": [
    {
     "name": "stdout",
     "output_type": "stream",
     "text": [
      "[INFO] Scan history has been exported to output.csv\n"
     ]
    }
   ],
   "source": [
    "# 4. Export to CSV\n",
    "export(results)\n",
    "print('[INFO] Scan history has been exported to output.csv')"
   ]
  }
 ],
 "metadata": {
  "kernelspec": {
   "display_name": "Python 3.10.1 ('env': venv)",
   "language": "python",
   "name": "python3"
  },
  "language_info": {
   "codemirror_mode": {
    "name": "ipython",
    "version": 3
   },
   "file_extension": ".py",
   "mimetype": "text/x-python",
   "name": "python",
   "nbconvert_exporter": "python",
   "pygments_lexer": "ipython3",
   "version": "3.10.1"
  },
  "metadata": {
   "interpreter": {
    "hash": "574e4e3fa2caffcca541e866ecc3c3fa6a3324d93e0b2e094715f4fe33f8825b"
   }
  },
  "orig_nbformat": 2,
  "vscode": {
   "interpreter": {
    "hash": "927d94ffdafcc6b94449aeb7c968420dc3eeb572dc48d885fe8ef92cd3316369"
   }
  }
 },
 "nbformat": 4,
 "nbformat_minor": 2
}
